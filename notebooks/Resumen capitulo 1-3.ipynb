{
 "cells": [
  {
   "cell_type": "markdown",
   "metadata": {},
   "source": [
    "Los primeros capitulos del libro corresponden a conceptos básicos para dominar, ideas que más adelante nos ayudaran a dominar conceptos más complejos."
   ]
  },
  {
   "cell_type": "code",
   "execution_count": null,
   "metadata": {},
   "outputs": [],
   "source": []
  }
 ],
 "metadata": {
  "kernelspec": {
   "display_name": "Python 3.10.6 ('base': conda)",
   "language": "python",
   "name": "python3"
  },
  "language_info": {
   "name": "python",
   "version": "3.10.6"
  },
  "orig_nbformat": 4,
  "vscode": {
   "interpreter": {
    "hash": "d6101b765d0264b2c1da65ee30f5f2bdf11b80c902c5f09ff8bb121469a72765"
   }
  }
 },
 "nbformat": 4,
 "nbformat_minor": 2
}
